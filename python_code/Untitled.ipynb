{
 "cells": [
  {
   "cell_type": "code",
   "execution_count": 6,
   "id": "e84f7a40",
   "metadata": {},
   "outputs": [],
   "source": [
    "import os\n",
    "import django\n",
    "import requests\n",
    "# from tqdm import tqdm\n",
    "os.environ.setdefault('DJANGO_SETTINGS_MODULE', 'rest.settings')\n",
    "os.environ[\"DJANGO_ALLOW_ASYNC_UNSAFE\"] = \"true\""
   ]
  },
  {
   "cell_type": "code",
   "execution_count": 37,
   "id": "a8a0b96f",
   "metadata": {},
   "outputs": [],
   "source": [
    "URL = 'https://api.themoviedb.org/3'"
   ]
  },
  {
   "cell_type": "markdown",
   "id": "5201e9b1",
   "metadata": {},
   "source": [
    "## 장르 DB"
   ]
  },
  {
   "cell_type": "code",
   "execution_count": 44,
   "id": "292d3a49",
   "metadata": {},
   "outputs": [],
   "source": [
    "url_genres = f'{URL}/genre/movie/list?api_key=164acb58532a315bea423c96031d8a71'"
   ]
  },
  {
   "cell_type": "code",
   "execution_count": 45,
   "id": "8add9788",
   "metadata": {},
   "outputs": [],
   "source": [
    "result = requests.get(url_genres)"
   ]
  },
  {
   "cell_type": "code",
   "execution_count": 55,
   "id": "74dd87ac",
   "metadata": {},
   "outputs": [],
   "source": [
    "genres = result.json()['genres']"
   ]
  },
  {
   "cell_type": "code",
   "execution_count": 76,
   "id": "0d9c859d",
   "metadata": {},
   "outputs": [],
   "source": [
    "for g in genres:\n",
    "    genre = Genre()\n",
    "    genre.pk = g['id']\n",
    "    genre.genre_name = g['name']\n",
    "    genre.save()"
   ]
  },
  {
   "cell_type": "markdown",
   "id": "d0a4618a",
   "metadata": {},
   "source": [
    "## 영화 DB"
   ]
  },
  {
   "cell_type": "code",
   "execution_count": null,
   "id": "cbd8571a",
   "metadata": {},
   "outputs": [],
   "source": [
    "for i in tqdm(range(1, 500)):\n",
    "    url = f'{URL}/movie/popular?api_key=164acb58532a315bea423c96031d8a71&language=ko&page={i}'\n",
    "    result = requests.get(url)\n",
    "    movies.extend(result.json()['results'])"
   ]
  },
  {
   "cell_type": "code",
   "execution_count": 110,
   "id": "51bfb61a",
   "metadata": {},
   "outputs": [],
   "source": [
    "i= 1\n",
    "url = f'{URL}/movie/popular?api_key=164acb58532a315bea423c96031d8a71&language=ko&page={i}'\n",
    "result = requests.get(url)"
   ]
  },
  {
   "cell_type": "code",
   "execution_count": 111,
   "id": "b4b3f350",
   "metadata": {},
   "outputs": [],
   "source": [
    "results = result.json()['results']"
   ]
  },
  {
   "cell_type": "code",
   "execution_count": 115,
   "id": "e496a537",
   "metadata": {},
   "outputs": [],
   "source": [
    "for mv in results:\n",
    "    movie = Movie()\n",
    "    movie.title_en = mv['original_title']\n",
    "    movie.title_ko = mv['title']\n",
    "    movie.rate = mv['vote_average']\n",
    "    movie.rate_people_count = mv['vote_count']\n",
    "    movie.poster_path = mv['poster_path']\n",
    "    movie.description = mv['overview']\n",
    "    movie.save()\n",
    "    for gid in mv['genre_ids']:\n",
    "        movie.genres.add(Genre.objects.get(pk=gid))"
   ]
  },
  {
   "cell_type": "code",
   "execution_count": null,
   "id": "281d9b98",
   "metadata": {},
   "outputs": [],
   "source": []
  }
 ],
 "metadata": {
  "kernelspec": {
   "display_name": "Django Shell-Plus",
   "language": "python",
   "name": "django_extensions"
  },
  "language_info": {
   "codemirror_mode": {
    "name": "ipython",
    "version": 3
   },
   "file_extension": ".py",
   "mimetype": "text/x-python",
   "name": "python",
   "nbconvert_exporter": "python",
   "pygments_lexer": "ipython3",
   "version": "3.8.7"
  }
 },
 "nbformat": 4,
 "nbformat_minor": 5
}
