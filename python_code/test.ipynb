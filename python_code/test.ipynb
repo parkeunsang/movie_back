{
 "cells": [
  {
   "cell_type": "code",
   "execution_count": null,
   "id": "4b6920b7",
   "metadata": {},
   "outputs": [],
   "source": [
    "movie = Movie.objects.all()[0]"
   ]
  },
  {
   "cell_type": "code",
   "execution_count": 51,
   "id": "bf236a8a",
   "metadata": {},
   "outputs": [
    {
     "data": {
      "text/plain": [
       "10.0"
      ]
     },
     "execution_count": 51,
     "metadata": {},
     "output_type": "execute_result"
    }
   ],
   "source": [
    "MovieUserScore.objects.filter(movie_id=8)[0].score"
   ]
  },
  {
   "cell_type": "code",
   "execution_count": 52,
   "id": "15eca544",
   "metadata": {},
   "outputs": [],
   "source": [
    "mus = MovieUserScore()"
   ]
  },
  {
   "cell_type": "code",
   "execution_count": 61,
   "id": "6c5ba566",
   "metadata": {},
   "outputs": [
    {
     "data": {
      "text/plain": [
       "1"
      ]
     },
     "execution_count": 61,
     "metadata": {},
     "output_type": "execute_result"
    }
   ],
   "source": [
    "len(MovieUserScore.objects.filter(movie_id=8, user_id=1))"
   ]
  },
  {
   "cell_type": "code",
   "execution_count": 64,
   "id": "05540eea",
   "metadata": {},
   "outputs": [
    {
     "data": {
      "text/plain": [
       "0"
      ]
     },
     "execution_count": 64,
     "metadata": {},
     "output_type": "execute_result"
    }
   ],
   "source": [
    "len(MovieUserScore.objects.filter(movie_id=1, user_id=1))"
   ]
  },
  {
   "cell_type": "code",
   "execution_count": null,
   "id": "4d246bfd",
   "metadata": {},
   "outputs": [],
   "source": []
  },
  {
   "cell_type": "code",
   "execution_count": 26,
   "id": "8fa2f89d",
   "metadata": {},
   "outputs": [],
   "source": [
    "mus = MovieUserScore()"
   ]
  },
  {
   "cell_type": "code",
   "execution_count": 19,
   "id": "e5c20b3a",
   "metadata": {},
   "outputs": [],
   "source": [
    "mus.movie = Movie.objects.all()[0]"
   ]
  },
  {
   "cell_type": "code",
   "execution_count": 30,
   "id": "e18553b0",
   "metadata": {},
   "outputs": [],
   "source": [
    "mus.user_id"
   ]
  },
  {
   "cell_type": "code",
   "execution_count": 21,
   "id": "e548a7f0",
   "metadata": {},
   "outputs": [
    {
     "data": {
      "text/plain": [
       "<django.db.models.fields.related_descriptors.ForeignKeyDeferredAttribute at 0x20a61a31370>"
      ]
     },
     "execution_count": 21,
     "metadata": {},
     "output_type": "execute_result"
    }
   ],
   "source": [
    "mus.movie_id"
   ]
  },
  {
   "cell_type": "code",
   "execution_count": 60,
   "id": "cab6ea1f",
   "metadata": {},
   "outputs": [],
   "source": [
    "from rest_framework.authtoken.models import Token"
   ]
  },
  {
   "cell_type": "code",
   "execution_count": 67,
   "id": "eca1915a",
   "metadata": {},
   "outputs": [
    {
     "data": {
      "text/plain": [
       "4"
      ]
     },
     "execution_count": 67,
     "metadata": {},
     "output_type": "execute_result"
    }
   ],
   "source": [
    "Token.objects.get(key='663e11d8cec1fac1b67df0229149952be998eb17').user_id"
   ]
  },
  {
   "cell_type": "code",
   "execution_count": 14,
   "id": "c5f4ecbf",
   "metadata": {},
   "outputs": [],
   "source": [
    "import os\n",
    "import django\n",
    "import requests\n",
    "import datetime\n",
    "import json\n",
    "from collections import OrderedDict\n",
    "\n",
    "from tqdm import tqdm\n",
    "os.environ.setdefault('DJANGO_SETTINGS_MODULE', 'rest.settings')\n",
    "os.environ[\"DJANGO_ALLOW_ASYNC_UNSAFE\"] = \"true\""
   ]
  },
  {
   "cell_type": "code",
   "execution_count": 134,
   "id": "f6f04486",
   "metadata": {},
   "outputs": [],
   "source": [
    "URL = 'https://api.themoviedb.org/3'\n",
    "API_KEY = '164acb58532a315bea423c96031d8a71'"
   ]
  },
  {
   "cell_type": "code",
   "execution_count": 146,
   "id": "7c52b502",
   "metadata": {},
   "outputs": [],
   "source": [
    "url_ = f'{URL}/movie/{499028}/videos?api_key=164acb58532a315bea423c96031d8a71'"
   ]
  },
  {
   "cell_type": "markdown",
   "id": "57fa6c6f",
   "metadata": {},
   "source": [
    "## 추천점수"
   ]
  },
  {
   "cell_type": "code",
   "execution_count": 6,
   "id": "cd75cf19",
   "metadata": {},
   "outputs": [
    {
     "data": {
      "text/plain": [
       "'비올때'"
      ]
     },
     "execution_count": 6,
     "metadata": {},
     "output_type": "execute_result"
    }
   ],
   "source": [
    "Keyword.objects.all()[1].word"
   ]
  },
  {
   "cell_type": "code",
   "execution_count": 46,
   "id": "de92918b",
   "metadata": {},
   "outputs": [],
   "source": [
    "keywords = ['반전', '비올때', '혼자보기 좋은', '넷플릭스']\n",
    "movie_dict = {}\n",
    "for keyword in keywords:\n",
    "    kw_object = Keyword.objects.get(word=keyword)\n",
    "    movies = kw_object.movies.all()\n",
    "    movie_ids = [x.id for x in movies]\n",
    "    recommend_list = KM.objects.filter(movie__in=movie_ids, word=kw_object.pk)\n",
    "    # recommend_list.order_by('-score')[:20]\n",
    "\n",
    "    for rl in recommend_list:\n",
    "        mv = rl.movie\n",
    "        if movie_dict.get(mv.id):\n",
    "            movie_dict[mv.id] += rl.score\n",
    "        else:\n",
    "            movie_dict[mv.id] = rl.score\n",
    "top20 = list(OrderedDict(sorted(movie_dict.items(), key=lambda t:-t[1])).items())[:20]\n",
    "data = []"
   ]
  },
  {
   "cell_type": "code",
   "execution_count": 9,
   "id": "0daa4c6c",
   "metadata": {},
   "outputs": [],
   "source": [
    "import numpy as np\n",
    "\n",
    "def mm(arr):\n",
    "    mm_result = (arr - min(min(arr), 2)) / (max(arr) - min(min(arr), 2))\n",
    "    other = [x-int(x) for x in arr]\n",
    "    return mm_result, other\n",
    "\n",
    "result = mm(np.array([x[1] for x in top20]))\n",
    "result = [round(x, 2) for x in result[0] * 9 + result[1]]\n",
    "\n",
    "data = []\n",
    "for i in range(len(top20)):\n",
    "    data.append((top20[i][0], result[i]))"
   ]
  },
  {
   "cell_type": "code",
   "execution_count": null,
   "id": "519d2f17",
   "metadata": {},
   "outputs": [],
   "source": [
    "for i in top20:\n",
    "    mv_id = i[0]\n",
    "    score = i[1]\n",
    "    mv = Movie.objects.get(pk=mv_id)\n",
    "    movie_data = {\n",
    "        'id': mv.pk,\n",
    "        'title_ko': mv.title_ko,\n",
    "        'poster_path': mv.poster_path,\n",
    "        'score': score\n",
    "        }\n",
    "    data.append(movie_data)\n",
    "\n",
    "result = {'data':  data}"
   ]
  }
 ],
 "metadata": {
  "kernelspec": {
   "display_name": "Django Shell-Plus",
   "language": "python",
   "name": "django_extensions"
  },
  "language_info": {
   "codemirror_mode": {
    "name": "ipython",
    "version": 3
   },
   "file_extension": ".py",
   "mimetype": "text/x-python",
   "name": "python",
   "nbconvert_exporter": "python",
   "pygments_lexer": "ipython3",
   "version": "3.8.7"
  }
 },
 "nbformat": 4,
 "nbformat_minor": 5
}
