{
 "cells": [
  {
   "cell_type": "code",
   "execution_count": 1,
   "id": "c5f4ecbf",
   "metadata": {},
   "outputs": [],
   "source": [
    "import os\n",
    "import django\n",
    "import requests\n",
    "import datetime\n",
    "import json\n",
    "from tqdm import tqdm\n",
    "os.environ.setdefault('DJANGO_SETTINGS_MODULE', 'rest.settings')\n",
    "os.environ[\"DJANGO_ALLOW_ASYNC_UNSAFE\"] = \"true\""
   ]
  },
  {
   "cell_type": "code",
   "execution_count": 55,
   "id": "f5e2daee",
   "metadata": {},
   "outputs": [],
   "source": [
    "movies = Movie.objects.filter(title_ko='범죄도시')"
   ]
  },
  {
   "cell_type": "code",
   "execution_count": 59,
   "id": "d67938f7",
   "metadata": {},
   "outputs": [
    {
     "data": {
      "text/plain": [
       "\"What Doesn't Kill You\""
      ]
     },
     "execution_count": 59,
     "metadata": {},
     "output_type": "execute_result"
    }
   ],
   "source": [
    "movies[0].title_en"
   ]
  },
  {
   "cell_type": "code",
   "execution_count": 60,
   "id": "17e09661",
   "metadata": {},
   "outputs": [
    {
     "data": {
      "text/plain": [
       "'범죄도시'"
      ]
     },
     "execution_count": 60,
     "metadata": {},
     "output_type": "execute_result"
    }
   ],
   "source": [
    "movies[1].title_en"
   ]
  },
  {
   "cell_type": "code",
   "execution_count": 46,
   "id": "023fbb50",
   "metadata": {},
   "outputs": [
    {
     "data": {
      "text/plain": [
       "'최강전사 미니특공대 : 영웅의 탄생'"
      ]
     },
     "execution_count": 46,
     "metadata": {},
     "output_type": "execute_result"
    }
   ],
   "source": [
    "movies[10].title_en"
   ]
  },
  {
   "cell_type": "code",
   "execution_count": 43,
   "id": "a13f2442",
   "metadata": {},
   "outputs": [
    {
     "data": {
      "text/plain": [
       "'세인트 앤 솔저: 최강전차부대'"
      ]
     },
     "execution_count": 43,
     "metadata": {},
     "output_type": "execute_result"
    }
   ],
   "source": [
    "movies[7].title_ko"
   ]
  },
  {
   "cell_type": "code",
   "execution_count": 16,
   "id": "8b35da85",
   "metadata": {},
   "outputs": [
    {
     "data": {
      "text/plain": [
       "'최강 로맨스'"
      ]
     },
     "execution_count": 16,
     "metadata": {},
     "output_type": "execute_result"
    }
   ],
   "source": [
    "movies[0].title_en"
   ]
  },
  {
   "cell_type": "code",
   "execution_count": 2,
   "id": "d1279bb3",
   "metadata": {},
   "outputs": [],
   "source": [
    "movies = Movie.objects.filter(title_en__contains='The Perfect Couple')"
   ]
  },
  {
   "cell_type": "code",
   "execution_count": 3,
   "id": "b39a2508",
   "metadata": {},
   "outputs": [
    {
     "data": {
      "text/plain": [
       "<QuerySet []>"
      ]
     },
     "execution_count": 3,
     "metadata": {},
     "output_type": "execute_result"
    }
   ],
   "source": [
    "movies"
   ]
  },
  {
   "cell_type": "code",
   "execution_count": 8,
   "id": "c18cd258",
   "metadata": {},
   "outputs": [],
   "source": [
    "movie_list = ['컨저링 3: 악마가 시켰다', '라스트 나이트 인 소호']"
   ]
  },
  {
   "cell_type": "code",
   "execution_count": 13,
   "id": "2d1a1127",
   "metadata": {},
   "outputs": [
    {
     "data": {
      "text/plain": [
       "<Movie: Movie object (81633)>"
      ]
     },
     "execution_count": 13,
     "metadata": {},
     "output_type": "execute_result"
    }
   ],
   "source": [
    "Movie.objects.all()[0]"
   ]
  },
  {
   "cell_type": "code",
   "execution_count": 18,
   "id": "373a668e",
   "metadata": {},
   "outputs": [
    {
     "data": {
      "text/plain": [
       "<QuerySet [<Movie: Movie object (423108)>, <Movie: Movie object (576845)>]>"
      ]
     },
     "execution_count": 18,
     "metadata": {},
     "output_type": "execute_result"
    }
   ],
   "source": [
    "Movie.objects.filter(title_ko__in=movie_list)"
   ]
  }
 ],
 "metadata": {
  "kernelspec": {
   "display_name": "Django Shell-Plus",
   "language": "python",
   "name": "django_extensions"
  },
  "language_info": {
   "codemirror_mode": {
    "name": "ipython",
    "version": 3
   },
   "file_extension": ".py",
   "mimetype": "text/x-python",
   "name": "python",
   "nbconvert_exporter": "python",
   "pygments_lexer": "ipython3",
   "version": "3.8.7"
  }
 },
 "nbformat": 4,
 "nbformat_minor": 5
}
