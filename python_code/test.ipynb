{
 "cells": [
  {
   "cell_type": "code",
   "execution_count": 88,
   "id": "c5f4ecbf",
   "metadata": {},
   "outputs": [],
   "source": [
    "import os\n",
    "import django\n",
    "import requests\n",
    "import datetime\n",
    "import json\n",
    "from collections import OrderedDict\n",
    "\n",
    "from tqdm import tqdm\n",
    "os.environ.setdefault('DJANGO_SETTINGS_MODULE', 'rest.settings')\n",
    "os.environ[\"DJANGO_ALLOW_ASYNC_UNSAFE\"] = \"true\""
   ]
  },
  {
   "cell_type": "code",
   "execution_count": 134,
   "id": "f6f04486",
   "metadata": {},
   "outputs": [],
   "source": [
    "URL = 'https://api.themoviedb.org/3'\n",
    "API_KEY = '164acb58532a315bea423c96031d8a71'"
   ]
  },
  {
   "cell_type": "code",
   "execution_count": 146,
   "id": "7c52b502",
   "metadata": {},
   "outputs": [],
   "source": [
    "url_ = f'{URL}/movie/{499028}/videos?api_key=164acb58532a315bea423c96031d8a71'"
   ]
  },
  {
   "cell_type": "code",
   "execution_count": 147,
   "id": "b03886d1",
   "metadata": {},
   "outputs": [
    {
     "data": {
      "text/plain": [
       "{'id': 499028,\n",
       " 'results': [{'id': '5a98e12392514128be003656',\n",
       "   'iso_639_1': 'en',\n",
       "   'iso_3166_1': 'US',\n",
       "   'key': 's_GBy9vx2PQ',\n",
       "   'name': 'Be With You Main Trailer',\n",
       "   'site': 'YouTube',\n",
       "   'size': 1080,\n",
       "   'type': 'Trailer'}]}"
      ]
     },
     "execution_count": 147,
     "metadata": {},
     "output_type": "execute_result"
    }
   ],
   "source": [
    "requests.get(url_).json()"
   ]
  },
  {
   "cell_type": "code",
   "execution_count": 136,
   "id": "573356ff",
   "metadata": {},
   "outputs": [
    {
     "data": {
      "text/plain": [
       "5038"
      ]
     },
     "execution_count": 136,
     "metadata": {},
     "output_type": "execute_result"
    }
   ],
   "source": [
    "Movie.objects.all()[1001].id"
   ]
  }
 ],
 "metadata": {
  "kernelspec": {
   "display_name": "Django Shell-Plus",
   "language": "python",
   "name": "django_extensions"
  },
  "language_info": {
   "codemirror_mode": {
    "name": "ipython",
    "version": 3
   },
   "file_extension": ".py",
   "mimetype": "text/x-python",
   "name": "python",
   "nbconvert_exporter": "python",
   "pygments_lexer": "ipython3",
   "version": "3.8.7"
  }
 },
 "nbformat": 4,
 "nbformat_minor": 5
}
