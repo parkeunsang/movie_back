{
 "cells": [
  {
   "cell_type": "code",
   "execution_count": 1,
   "id": "a8a9373d",
   "metadata": {},
   "outputs": [],
   "source": [
    "import os\n",
    "import django\n",
    "import requests\n",
    "import datetime\n",
    "import json\n",
    "from tqdm import tqdm\n",
    "os.environ.setdefault('DJANGO_SETTINGS_MODULE', 'rest.settings')\n",
    "os.environ[\"DJANGO_ALLOW_ASYNC_UNSAFE\"] = \"true\""
   ]
  },
  {
   "cell_type": "code",
   "execution_count": 2,
   "id": "0ea13d5d",
   "metadata": {},
   "outputs": [],
   "source": [
    "import requests\n",
    "from bs4 import BeautifulSoup as bs\n",
    "from collections import Counter"
   ]
  },
  {
   "cell_type": "code",
   "execution_count": null,
   "id": "8b640e55",
   "metadata": {},
   "outputs": [],
   "source": [
    "over2020 = Movie.objects.filter(release_date__gte='2000-01-01 00:00')\n",
    "movie_titles = [x.title_ko.replace(' ', '') for x in over2020]"
   ]
  },
  {
   "cell_type": "code",
   "execution_count": 3,
   "id": "71dad0b4",
   "metadata": {},
   "outputs": [],
   "source": [
    "url = 'https://m.blog.naver.com/cjdvheh03/221307331732'"
   ]
  },
  {
   "cell_type": "code",
   "execution_count": 37,
   "id": "95232179",
   "metadata": {},
   "outputs": [],
   "source": [
    "url = 'https://blog.hyosung.com/2937'"
   ]
  },
  {
   "cell_type": "code",
   "execution_count": 38,
   "id": "cb1d6318",
   "metadata": {},
   "outputs": [],
   "source": [
    "headers = {'User-Agent':'Mozilla/5.0 (Windows NT 6.3; Win64; x64) AppleWebKit/537.36 (KHTML, like Gecko) Chrome/63.0.3239.132 Safari/537.36'}"
   ]
  },
  {
   "cell_type": "code",
   "execution_count": 39,
   "id": "e5a2ca67",
   "metadata": {},
   "outputs": [],
   "source": [
    "soup = bs(requests.get(url, headers=headers).text)"
   ]
  },
  {
   "cell_type": "code",
   "execution_count": 40,
   "id": "b31dbef7",
   "metadata": {},
   "outputs": [],
   "source": [
    "all_text = [x.text.strip() for x in soup.find_all() if x.text]\n",
    "all_text = [x for x in all_text if x != '' and len(x) < 20]"
   ]
  },
  {
   "cell_type": "code",
   "execution_count": 41,
   "id": "417130e3",
   "metadata": {},
   "outputs": [],
   "source": [
    "dummies_contain = ['폰트', '본문', '블로그', '검색', '공유', '추천', '댓글']\n",
    "# dummies_equal = ['공감', '상세보기']"
   ]
  },
  {
   "cell_type": "code",
   "execution_count": 42,
   "id": "b0468184",
   "metadata": {},
   "outputs": [],
   "source": [
    "result = []\n",
    "for text in all_text:\n",
    "    for dummy in dummies_contain:\n",
    "        if dummy in text:\n",
    "            break\n",
    "    else:\n",
    "        result.append(text)"
   ]
  },
  {
   "cell_type": "code",
   "execution_count": 43,
   "id": "61c28a08",
   "metadata": {},
   "outputs": [],
   "source": []
  },
  {
   "cell_type": "code",
   "execution_count": 36,
   "id": "27913676",
   "metadata": {},
   "outputs": [
    {
     "name": "stdout",
     "output_type": "stream",
     "text": [
      "노트북\n",
      "리틀 포레스트\n",
      "18\n",
      "지금, 만나러 갑니다\n",
      "바닷마을 다이어리\n",
      "어바웃 타임\n"
     ]
    }
   ],
   "source": [
    "for mt in set(result):\n",
    "    if mt.replace(' ', '') in movie_titles:\n",
    "        print(mt)"
   ]
  },
  {
   "cell_type": "code",
   "execution_count": 48,
   "id": "5a8510d9",
   "metadata": {},
   "outputs": [
    {
     "name": "stdout",
     "output_type": "stream",
     "text": [
      "언어의 정원\n",
      "1\n",
      "라이프\n",
      "지금 만나러 갑니다\n",
      "장마\n",
      "인사이트\n",
      "rain\n",
      "살인의 추억\n",
      "소나기\n",
      "Ignition\n",
      "태그\n",
      ".\n"
     ]
    }
   ],
   "source": [
    "for mt in set(result):\n",
    "    if mt.replace(' ', '') in movie_titles:\n",
    "        print(mt)"
   ]
  },
  {
   "cell_type": "code",
   "execution_count": 59,
   "id": "94cae96b",
   "metadata": {},
   "outputs": [
    {
     "data": {
      "text/plain": [
       "'.'"
      ]
     },
     "execution_count": 59,
     "metadata": {},
     "output_type": "execute_result"
    }
   ],
   "source": [
    "over2020[176904].title_en"
   ]
  },
  {
   "cell_type": "code",
   "execution_count": 53,
   "id": "7461456e",
   "metadata": {},
   "outputs": [
    {
     "data": {
      "text/plain": [
       "176904"
      ]
     },
     "execution_count": 53,
     "metadata": {},
     "output_type": "execute_result"
    }
   ],
   "source": [
    "movie_titles.index('.')"
   ]
  },
  {
   "cell_type": "code",
   "execution_count": 52,
   "id": "191e83f7",
   "metadata": {},
   "outputs": [
    {
     "data": {
      "text/plain": [
       "True"
      ]
     },
     "execution_count": 52,
     "metadata": {},
     "output_type": "execute_result"
    }
   ],
   "source": [
    "'.' in movie_titles"
   ]
  },
  {
   "cell_type": "code",
   "execution_count": null,
   "id": "1fe979ce",
   "metadata": {},
   "outputs": [],
   "source": []
  }
 ],
 "metadata": {
  "kernelspec": {
   "display_name": "Django Shell-Plus",
   "language": "python",
   "name": "django_extensions"
  },
  "language_info": {
   "codemirror_mode": {
    "name": "ipython",
    "version": 3
   },
   "file_extension": ".py",
   "mimetype": "text/x-python",
   "name": "python",
   "nbconvert_exporter": "python",
   "pygments_lexer": "ipython3",
   "version": "3.8.7"
  }
 },
 "nbformat": 4,
 "nbformat_minor": 5
}
