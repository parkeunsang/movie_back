{
 "cells": [
  {
   "cell_type": "code",
   "execution_count": 1,
   "id": "53d149f4",
   "metadata": {},
   "outputs": [],
   "source": [
    "import os\n",
    "import django\n",
    "import requests\n",
    "import datetime\n",
    "import json\n",
    "from tqdm import tqdm\n",
    "import warnings\n",
    "os.environ.setdefault('DJANGO_SETTINGS_MODULE', 'rest.settings')\n",
    "os.environ[\"DJANGO_ALLOW_ASYNC_UNSAFE\"] = \"true\"\n",
    "warnings.filterwarnings(action='ignore')"
   ]
  },
  {
   "cell_type": "code",
   "execution_count": 2,
   "id": "3b20a1b1",
   "metadata": {},
   "outputs": [],
   "source": [
    "import re\n",
    "import requests\n",
    "import pickle\n",
    "from bs4 import BeautifulSoup as bs\n",
    "from collections import Counter, OrderedDict"
   ]
  },
  {
   "cell_type": "code",
   "execution_count": 3,
   "id": "16c93cb5",
   "metadata": {},
   "outputs": [],
   "source": [
    "# https://developers.themoviedb.org/3/discover/movie-discover\n",
    "URL = 'https://api.themoviedb.org/3'\n",
    "API_KEY = '164acb58532a315bea423c96031d8a71'"
   ]
  },
  {
   "cell_type": "markdown",
   "id": "fc2fd991",
   "metadata": {},
   "source": [
    "## 장르"
   ]
  },
  {
   "cell_type": "code",
   "execution_count": 5,
   "id": "1671dd18",
   "metadata": {},
   "outputs": [],
   "source": [
    "url_genres = f'{URL}/genre/movie/list?api_key=164acb58532a315bea423c96031d8a71'\n",
    "result = requests.get(url_genres)\n",
    "genres = result.json()['genres']\n",
    "\n",
    "for g in genres:\n",
    "    genre = Genre()\n",
    "    genre.pk = g['id']\n",
    "    genre.genre_name = g['name']\n",
    "    genre.save()"
   ]
  },
  {
   "cell_type": "markdown",
   "id": "e8e003ad",
   "metadata": {},
   "source": [
    "## 영화(2000~2021)"
   ]
  },
  {
   "cell_type": "code",
   "execution_count": 6,
   "id": "df0dc425",
   "metadata": {},
   "outputs": [
    {
     "name": "stdout",
     "output_type": "stream",
     "text": [
      "2021\n",
      "2020\n",
      "2019\n",
      "2018\n",
      "2017\n",
      "2016\n",
      "2015\n",
      "2014\n",
      "2013\n",
      "2012\n",
      "2011\n",
      "2010\n",
      "2009\n",
      "2008\n",
      "2007\n",
      "2006\n",
      "2005\n",
      "2004\n",
      "2003\n",
      "2002\n",
      "2001\n",
      "2000\n"
     ]
    }
   ],
   "source": [
    "for year in reversed(range(2000, 2022)):\n",
    "    print(year)\n",
    "    with open(f'./movie_{year}.json', 'r') as fp:\n",
    "        movies = json.load(fp)\n",
    "\n",
    "    # using bulk\n",
    "    to_db_movies = []\n",
    "\n",
    "    for mv in movies:\n",
    "        movie = Movie()\n",
    "        movie.pk = mv['id']\n",
    "        movie.title_en = mv['original_title']\n",
    "        movie.title_ko = mv['title']\n",
    "        movie.rate = mv['vote_average']\n",
    "        movie.rate_people_count = mv['vote_count']\n",
    "        movie.poster_path = mv['poster_path']\n",
    "        movie.description = mv['overview']\n",
    "        movie.release_date = datetime.datetime.strptime(mv['release_date'], '%Y-%m-%d')\n",
    "        to_db_movies.append(movie)\n",
    "\n",
    "    temp = Movie.objects.bulk_create(to_db_movies)\n",
    "\n",
    "    mgs = []\n",
    "    for mv in movies:\n",
    "        for gid in mv['genre_ids']:\n",
    "            mg = MG()\n",
    "            mg.movie_id = mv['id']\n",
    "            mg.genre_id = gid\n",
    "            mgs.append(mg)\n",
    "\n",
    "    temp = MG.objects.bulk_create(mgs)"
   ]
  },
  {
   "cell_type": "markdown",
   "id": "8628cb84",
   "metadata": {},
   "source": [
    "## 추천 관련 db"
   ]
  },
  {
   "cell_type": "code",
   "execution_count": 11,
   "id": "dfe1d0da",
   "metadata": {},
   "outputs": [],
   "source": [
    "over2020 = Movie.objects.filter(release_date__gte='2000-01-01 00:00').order_by('-release_date')\n",
    "movie_titles = [re.sub('[:.\\-_ ]', '', x.title_ko) for x in over2020]\n",
    "movie_pks = [x.pk for x in over2020]"
   ]
  },
  {
   "cell_type": "code",
   "execution_count": 10,
   "id": "cefef395",
   "metadata": {},
   "outputs": [],
   "source": [
    "def movie_order(kws):\n",
    "    temp = []\n",
    "    for k in kws:\n",
    "        temp += k\n",
    "    return list(OrderedDict(Counter(temp).most_common()).items())"
   ]
  },
  {
   "cell_type": "code",
   "execution_count": 7,
   "id": "1f1cfa5c",
   "metadata": {},
   "outputs": [],
   "source": [
    "with open('url_data_0528.pkl', 'rb') as f:\n",
    "    url_data = pickle.load(f) # 단 한줄씩 읽어옴\n",
    "with open('keyword_data_0528.pkl', 'rb') as f:\n",
    "    keyword_data = pickle.load(f) # 단 한줄씩 읽어옴"
   ]
  },
  {
   "cell_type": "markdown",
   "id": "31c7df71",
   "metadata": {},
   "source": [
    "### 추천 키워드"
   ]
  },
  {
   "cell_type": "code",
   "execution_count": 8,
   "id": "921ccb59",
   "metadata": {},
   "outputs": [],
   "source": [
    "# keyword 저장\n",
    "for key in keyword_data.keys():\n",
    "    keyword = Keyword()\n",
    "    keyword.word = key\n",
    "    keyword.save()"
   ]
  },
  {
   "cell_type": "markdown",
   "id": "12f1c78c",
   "metadata": {},
   "source": [
    "### 키워드 DB 수집"
   ]
  },
  {
   "cell_type": "code",
   "execution_count": 12,
   "id": "4bb48c89",
   "metadata": {},
   "outputs": [
    {
     "name": "stderr",
     "output_type": "stream",
     "text": [
      "100%|█████████████████████████████████████████████████████████████████████████████| 13/13 [01:34<00:00,  7.27s/it]\n"
     ]
    }
   ],
   "source": [
    "for key in tqdm(keyword_data.keys()):\n",
    "\n",
    "    word_pk = Keyword.objects.filter(word=key)[0].pk\n",
    "    mv_od = movie_order(keyword_data[key])\n",
    "    maximum = mv_od[0][1]\n",
    "    minimum = min(2, 10 / maximum)\n",
    "\n",
    "    for mo in mv_od:\n",
    "        km = KM()\n",
    "        idx = movie_titles.index(mo[0])\n",
    "        movie_pk = Movie.objects.filter(pk=movie_pks[idx])[0].pk\n",
    "\n",
    "        km.word_id = word_pk\n",
    "        km.movie_id = movie_pk\n",
    "        km.score = round(minimum + (10 - minimum) * (mo[1]-1)/maximum, 2)\n",
    "        km.save()"
   ]
  },
  {
   "cell_type": "code",
   "execution_count": null,
   "id": "b683dc47",
   "metadata": {},
   "outputs": [],
   "source": []
  }
 ],
 "metadata": {
  "kernelspec": {
   "display_name": "Django Shell-Plus",
   "language": "python",
   "name": "django_extensions"
  },
  "language_info": {
   "codemirror_mode": {
    "name": "ipython",
    "version": 3
   },
   "file_extension": ".py",
   "mimetype": "text/x-python",
   "name": "python",
   "nbconvert_exporter": "python",
   "pygments_lexer": "ipython3",
   "version": "3.8.7"
  }
 },
 "nbformat": 4,
 "nbformat_minor": 5
}
