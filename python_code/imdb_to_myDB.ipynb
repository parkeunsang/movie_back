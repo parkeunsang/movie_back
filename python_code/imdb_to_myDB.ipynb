{
 "cells": [
  {
   "cell_type": "code",
   "execution_count": 1,
   "id": "768fd51a",
   "metadata": {},
   "outputs": [],
   "source": [
    "import os\n",
    "import django\n",
    "import requests\n",
    "import datetime\n",
    "import json\n",
    "from tqdm import tqdm\n",
    "os.environ.setdefault('DJANGO_SETTINGS_MODULE', 'rest.settings')\n",
    "os.environ[\"DJANGO_ALLOW_ASYNC_UNSAFE\"] = \"true\""
   ]
  },
  {
   "cell_type": "code",
   "execution_count": 2,
   "id": "2c2d8ed7",
   "metadata": {},
   "outputs": [],
   "source": [
    "# https://developers.themoviedb.org/3/discover/movie-discover\n",
    "URL = 'https://api.themoviedb.org/3'\n",
    "API_KEY = '164acb58532a315bea423c96031d8a71'"
   ]
  },
  {
   "cell_type": "markdown",
   "id": "b74d7514",
   "metadata": {},
   "source": [
    "## 장르 DB"
   ]
  },
  {
   "cell_type": "code",
   "execution_count": 3,
   "id": "b6232bb5",
   "metadata": {},
   "outputs": [],
   "source": [
    "url_genres = f'{URL}/genre/movie/list?api_key=164acb58532a315bea423c96031d8a71'"
   ]
  },
  {
   "cell_type": "code",
   "execution_count": 4,
   "id": "40efb416",
   "metadata": {},
   "outputs": [],
   "source": [
    "result = requests.get(url_genres)"
   ]
  },
  {
   "cell_type": "code",
   "execution_count": 5,
   "id": "054abd4c",
   "metadata": {},
   "outputs": [],
   "source": [
    "genres = result.json()['genres']"
   ]
  },
  {
   "cell_type": "code",
   "execution_count": 6,
   "id": "7d056ed0",
   "metadata": {},
   "outputs": [],
   "source": [
    "for g in genres:\n",
    "    genre = Genre()\n",
    "    genre.pk = g['id']\n",
    "    genre.genre_name = g['name']\n",
    "    genre.save()"
   ]
  },
  {
   "cell_type": "markdown",
   "id": "63f63c4a",
   "metadata": {},
   "source": [
    "## 영화 DB"
   ]
  },
  {
   "cell_type": "code",
   "execution_count": 3,
   "id": "24293d90",
   "metadata": {},
   "outputs": [],
   "source": [
    "def date_term(year):\n",
    "    from_date = [f'{year}-{str(i).zfill(2)}-01' for i in range(1, 13)]\n",
    "    to_date = [f'{year}-{str(i).zfill(2)}-31' for i in range(1, 13)]\n",
    "    return from_date, to_date"
   ]
  },
  {
   "cell_type": "code",
   "execution_count": 4,
   "id": "3d181554",
   "metadata": {},
   "outputs": [],
   "source": [
    "def extend_movies(params):\n",
    "    result = requests.get(f'{URL}/discover/movie', params=  params).json()\n",
    "    movies.extend(result['results'])\n",
    "    if params['page'] == 1:\n",
    "        return result['total_pages']"
   ]
  },
  {
   "cell_type": "code",
   "execution_count": null,
   "id": "d1561597",
   "metadata": {},
   "outputs": [],
   "source": [
    "for year in reversed(range(2015, 2018)):\n",
    "    movies = []\n",
    "    from_date, to_date = date_term(year)\n",
    "    for month in reversed(range(12)):\n",
    "        print(f'{year}년{month+1}월 수집중')\n",
    "        params = {\n",
    "            'api_key': API_KEY,\n",
    "            'primary_release_date.gte': from_date[month],\n",
    "            'primary_release_date.lte': to_date[month],\n",
    "            'language': 'ko',\n",
    "            'page': 1\n",
    "        }\n",
    "        total_pages = extend_movies(params)\n",
    "        print(f'해당 월의 전체 페이지 수 : {total_pages}')\n",
    "        for page_num in range(2, total_pages + 1):\n",
    "            print(page_num, end='-')\n",
    "            params['page'] = page_num\n",
    "            extend_movies(params)\n",
    "    with open(f'./movie_{year}.json', 'w') as fp:\n",
    "        json.dump(movies, fp)"
   ]
  },
  {
   "cell_type": "markdown",
   "id": "f8a07b10",
   "metadata": {},
   "source": [
    "## Movies to DB"
   ]
  },
  {
   "cell_type": "code",
   "execution_count": 7,
   "id": "7b0e477e",
   "metadata": {},
   "outputs": [
    {
     "data": {
      "text/plain": [
       "{'adult': False,\n",
       " 'backdrop_path': '/7d6EY00g1c39SGZOoCJ5Py9nNth.jpg',\n",
       " 'genre_ids': [28, 12, 16, 878, 35],\n",
       " 'id': 324857,\n",
       " 'original_language': 'en',\n",
       " 'original_title': 'Spider-Man: Into the Spider-Verse',\n",
       " 'overview': '평범한 10대 마일스 모랄레스는 우연히 방사능 거미에 물려 스파이더맨 능력을 가지게 된다. 혼란스러워하던 마일스는 악당과 싸우고 있는 피터 파커를 마주치게 되고 피터 파커는 마일스가 자신과 같은 능력을 가지고 있음을 직감한다. 여러 개의 평행세계가 존재한다는 것을 알게 된 마일스와 피터 파커는 이후 스파이더우먼 스파이더 그웬, 스파이더맨 누아르, 스파이더햄 등 평행세계 속 공존하는 모든 스파이더맨들을 만나게 되는데... 하나의 유니버스에서 만나 팀을 결성한 스파이더맨들은 과연 세계를 구할 수 있을까?',\n",
       " 'popularity': 88.136,\n",
       " 'poster_path': '/vnWgIIEWAvWKOI65tm6h6VRbyY8.jpg',\n",
       " 'release_date': '2018-12-06',\n",
       " 'title': '스파이더맨: 뉴 유니버스',\n",
       " 'video': False,\n",
       " 'vote_average': 8.4,\n",
       " 'vote_count': 9415}"
      ]
     },
     "execution_count": 7,
     "metadata": {},
     "output_type": "execute_result"
    }
   ],
   "source": [
    "movies[0]"
   ]
  },
  {
   "cell_type": "code",
   "execution_count": 5,
   "id": "676fb702",
   "metadata": {},
   "outputs": [],
   "source": [
    "with open(f'./movie_{2018}.json', 'r') as fp:\n",
    "    movies = json.load(fp)"
   ]
  },
  {
   "cell_type": "code",
   "execution_count": 18,
   "id": "380800b0",
   "metadata": {},
   "outputs": [],
   "source": [
    "import warnings\n",
    "warnings.filterwarnings(action='ignore')"
   ]
  },
  {
   "cell_type": "code",
   "execution_count": 46,
   "id": "8d6f2b0b",
   "metadata": {},
   "outputs": [],
   "source": [
    "# # using bulk\n",
    "# to_db_movies = []\n",
    "\n",
    "# for mv in movies[:10]:\n",
    "#     movie = Movie()\n",
    "#     movie.title_en = mv['original_title']\n",
    "#     movie.title_ko = mv['title']\n",
    "#     movie.rate = mv['vote_average']\n",
    "#     movie.rate_people_count = mv['vote_count']\n",
    "#     movie.poster_path = mv['poster_path']\n",
    "#     movie.description = mv['overview']\n",
    "#     movie.release_date = datetime.datetime.strptime(mv['release_date'], '%Y-%m-%d')\n",
    "#     to_db_movies.append(movie)\n",
    "\n",
    "# Movie.objects.bulk_create(to_db_movies)"
   ]
  },
  {
   "cell_type": "code",
   "execution_count": 11,
   "id": "bd7af241",
   "metadata": {},
   "outputs": [],
   "source": [
    "with open(f'./movie_{2021}.json', 'r') as fp:\n",
    "    movies = json.load(fp)"
   ]
  },
  {
   "cell_type": "code",
   "execution_count": 19,
   "id": "1c5874d9",
   "metadata": {},
   "outputs": [
    {
     "name": "stderr",
     "output_type": "stream",
     "text": [
      "100%|██████████████████████████████████████████████████████████████████████████████████████| 8793/8793 [02:12<00:00, 66.14it/s]\n"
     ]
    }
   ],
   "source": [
    "for mv in tqdm(movies[10:]):\n",
    "    movie = Movie()\n",
    "    movie.pk = mv['id']\n",
    "    movie.title_en = mv['original_title']\n",
    "    movie.title_ko = mv['title']\n",
    "    movie.rate = mv['vote_average']\n",
    "    movie.rate_people_count = mv['vote_count']\n",
    "    movie.poster_path = mv['poster_path']\n",
    "    movie.description = mv['overview']\n",
    "    movie.release_date = datetime.datetime.strptime(mv['release_date'], '%Y-%m-%d')\n",
    "    movie.save()\n",
    "    for gid in mv['genre_ids']:\n",
    "        movie.genres.add(Genre.objects.get(pk=gid))"
   ]
  }
 ],
 "metadata": {
  "kernelspec": {
   "display_name": "Django Shell-Plus",
   "language": "python",
   "name": "django_extensions"
  },
  "language_info": {
   "codemirror_mode": {
    "name": "ipython",
    "version": 3
   },
   "file_extension": ".py",
   "mimetype": "text/x-python",
   "name": "python",
   "nbconvert_exporter": "python",
   "pygments_lexer": "ipython3",
   "version": "3.8.7"
  }
 },
 "nbformat": 4,
 "nbformat_minor": 5
}
