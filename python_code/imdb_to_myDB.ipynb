{
 "cells": [
  {
   "cell_type": "code",
   "execution_count": 4,
   "id": "768fd51a",
   "metadata": {},
   "outputs": [],
   "source": [
    "import os\n",
    "import django\n",
    "import requests\n",
    "import datetime\n",
    "import json\n",
    "from tqdm import tqdm\n",
    "os.environ.setdefault('DJANGO_SETTINGS_MODULE', 'rest.settings')\n",
    "os.environ[\"DJANGO_ALLOW_ASYNC_UNSAFE\"] = \"true\""
   ]
  },
  {
   "cell_type": "code",
   "execution_count": 5,
   "id": "2c2d8ed7",
   "metadata": {},
   "outputs": [],
   "source": [
    "# https://developers.themoviedb.org/3/discover/movie-discover\n",
    "URL = 'https://api.themoviedb.org/3'\n",
    "API_KEY = '164acb58532a315bea423c96031d8a71'"
   ]
  },
  {
   "cell_type": "markdown",
   "id": "b74d7514",
   "metadata": {},
   "source": [
    "## 장르 DB"
   ]
  },
  {
   "cell_type": "code",
   "execution_count": 6,
   "id": "b6232bb5",
   "metadata": {},
   "outputs": [],
   "source": [
    "url_genres = f'{URL}/genre/movie/list?api_key=164acb58532a315bea423c96031d8a71'"
   ]
  },
  {
   "cell_type": "code",
   "execution_count": 7,
   "id": "40efb416",
   "metadata": {},
   "outputs": [],
   "source": [
    "result = requests.get(url_genres)"
   ]
  },
  {
   "cell_type": "code",
   "execution_count": 8,
   "id": "054abd4c",
   "metadata": {},
   "outputs": [],
   "source": [
    "genres = result.json()['genres']"
   ]
  },
  {
   "cell_type": "code",
   "execution_count": 9,
   "id": "7d056ed0",
   "metadata": {},
   "outputs": [],
   "source": [
    "for g in genres:\n",
    "    genre = Genre()\n",
    "    genre.pk = g['id']\n",
    "    genre.genre_name = g['name']\n",
    "    genre.save()"
   ]
  },
  {
   "cell_type": "markdown",
   "id": "63f63c4a",
   "metadata": {},
   "source": [
    "## 영화 DB(직접 불러오는 코드)"
   ]
  },
  {
   "cell_type": "code",
   "execution_count": 7,
   "id": "24293d90",
   "metadata": {},
   "outputs": [],
   "source": [
    "def date_term(year):\n",
    "    from_date = [f'{year}-{str(i).zfill(2)}-01' for i in range(1, 13)]\n",
    "    to_date = [f'{year}-{str(i).zfill(2)}-31' for i in range(1, 13)]\n",
    "    return from_date, to_date"
   ]
  },
  {
   "cell_type": "code",
   "execution_count": 8,
   "id": "3d181554",
   "metadata": {},
   "outputs": [],
   "source": [
    "def extend_movies(params):\n",
    "    result = requests.get(f'{URL}/discover/movie', params=  params).json()\n",
    "    movies.extend(result['results'])\n",
    "    if params['page'] == 1:\n",
    "        return result['total_pages']"
   ]
  },
  {
   "cell_type": "code",
   "execution_count": null,
   "id": "ca1e1588",
   "metadata": {},
   "outputs": [],
   "source": [
    "for year in reversed(range(1980, 1990)):\n",
    "    movies = []\n",
    "    from_date, to_date = date_term(year)\n",
    "    for month in reversed(range(12)):\n",
    "        print(f'{year}년{month+1}월 수집중')\n",
    "        params = {\n",
    "            'api_key': API_KEY,\n",
    "            'primary_release_date.gte': from_date[month],\n",
    "            'primary_release_date.lte': to_date[month],\n",
    "            'language': 'ko',\n",
    "            'page': 1\n",
    "        }\n",
    "        total_pages = extend_movies(params)\n",
    "        print(f'해당 월의 전체 페이지 수 : {total_pages}')\n",
    "        for page_num in range(2, total_pages + 1):\n",
    "            print(page_num, end='-')\n",
    "            params['page'] = page_num\n",
    "            extend_movies(params)\n",
    "    with open(f'./movie_{year}.json', 'w') as fp:\n",
    "        json.dump(movies, fp)"
   ]
  },
  {
   "cell_type": "markdown",
   "id": "f8a07b10",
   "metadata": {},
   "source": [
    "## Movies to DB"
   ]
  },
  {
   "cell_type": "markdown",
   "id": "41c88cf8",
   "metadata": {},
   "source": [
    "### Using bulk(훨씬빠름)"
   ]
  },
  {
   "cell_type": "code",
   "execution_count": 10,
   "id": "742f6a85",
   "metadata": {},
   "outputs": [],
   "source": [
    "import warnings\n",
    "warnings.filterwarnings(action='ignore')"
   ]
  },
  {
   "cell_type": "code",
   "execution_count": 11,
   "id": "676fb702",
   "metadata": {},
   "outputs": [
    {
     "name": "stdout",
     "output_type": "stream",
     "text": [
      "2021\n",
      "2020\n",
      "2019\n",
      "2018\n",
      "2017\n",
      "2016\n",
      "2015\n",
      "2014\n",
      "2013\n",
      "2012\n",
      "2011\n",
      "2010\n",
      "2009\n",
      "2008\n",
      "2007\n",
      "2006\n",
      "2005\n",
      "2004\n",
      "2003\n",
      "2002\n",
      "2001\n",
      "2000\n"
     ]
    }
   ],
   "source": [
    "for year in reversed(range(2000, 2022)):\n",
    "    print(year)\n",
    "    with open(f'./movie_{year}.json', 'r') as fp:\n",
    "        movies = json.load(fp)\n",
    "\n",
    "    # using bulk\n",
    "    to_db_movies = []\n",
    "\n",
    "    for mv in movies:\n",
    "        movie = Movie()\n",
    "        movie.pk = mv['id']\n",
    "        movie.title_en = mv['original_title']\n",
    "        movie.title_ko = mv['title']\n",
    "        movie.rate = mv['vote_average']\n",
    "        movie.rate_people_count = mv['vote_count']\n",
    "        movie.poster_path = mv['poster_path']\n",
    "        movie.description = mv['overview']\n",
    "        movie.release_date = datetime.datetime.strptime(mv['release_date'], '%Y-%m-%d')\n",
    "        to_db_movies.append(movie)\n",
    "\n",
    "    temp = Movie.objects.bulk_create(to_db_movies)\n",
    "\n",
    "    mgs = []\n",
    "    for mv in movies:\n",
    "        for gid in mv['genre_ids']:\n",
    "            mg = MG()\n",
    "            mg.movie_id = mv['id']\n",
    "            mg.genre_id = gid\n",
    "            mgs.append(mg)\n",
    "\n",
    "    temp = MG.objects.bulk_create(mgs)"
   ]
  },
  {
   "cell_type": "markdown",
   "id": "ee05f505",
   "metadata": {},
   "source": [
    "### 낱개로 넣기(훨씬 느림)"
   ]
  },
  {
   "cell_type": "code",
   "execution_count": null,
   "id": "9521dac1",
   "metadata": {},
   "outputs": [],
   "source": [
    "for year in reversed(range(2000, 2021)):\n",
    "    print(year)\n",
    "    with open(f'./movie_{year}.json', 'r') as fp:\n",
    "        movies = json.load(fp)\n",
    "\n",
    "    for mv in tqdm(movies):\n",
    "        movie = Movie()\n",
    "        movie.pk = mv['id']\n",
    "        movie.title_en = mv['original_title']\n",
    "        movie.title_ko = mv['title']\n",
    "        movie.rate = mv['vote_average']\n",
    "        movie.rate_people_count = mv['vote_count']\n",
    "        movie.poster_path = mv['poster_path']\n",
    "        movie.description = mv['overview']\n",
    "        movie.release_date = datetime.datetime.strptime(mv['release_date'], '%Y-%m-%d')\n",
    "        movie.save()\n",
    "        for gid in mv['genre_ids']:\n",
    "            movie.genres.add(Genre.objects.get(pk=gid))"
   ]
  }
 ],
 "metadata": {
  "kernelspec": {
   "display_name": "Django Shell-Plus",
   "language": "python",
   "name": "django_extensions"
  },
  "language_info": {
   "codemirror_mode": {
    "name": "ipython",
    "version": 3
   },
   "file_extension": ".py",
   "mimetype": "text/x-python",
   "name": "python",
   "nbconvert_exporter": "python",
   "pygments_lexer": "ipython3",
   "version": "3.8.7"
  }
 },
 "nbformat": 4,
 "nbformat_minor": 5
}
