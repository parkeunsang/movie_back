{
 "cells": [
  {
   "cell_type": "code",
   "execution_count": 1,
   "id": "53d149f4",
   "metadata": {},
   "outputs": [],
   "source": [
    "import os\n",
    "import django\n",
    "import requests\n",
    "import datetime\n",
    "import json\n",
    "from tqdm import tqdm\n",
    "import warnings\n",
    "os.environ.setdefault('DJANGO_SETTINGS_MODULE', 'rest.settings')\n",
    "os.environ[\"DJANGO_ALLOW_ASYNC_UNSAFE\"] = \"true\"\n",
    "warnings.filterwarnings(action='ignore')"
   ]
  },
  {
   "cell_type": "code",
   "execution_count": 2,
   "id": "3b20a1b1",
   "metadata": {},
   "outputs": [],
   "source": [
    "import re\n",
    "import requests\n",
    "import pickle\n",
    "from bs4 import BeautifulSoup as bs\n",
    "from collections import Counter, OrderedDict"
   ]
  },
  {
   "cell_type": "code",
   "execution_count": 3,
   "id": "16c93cb5",
   "metadata": {},
   "outputs": [],
   "source": [
    "# https://developers.themoviedb.org/3/discover/movie-discover\n",
    "URL = 'https://api.themoviedb.org/3'\n",
    "API_KEY = os.environ.get('MOVIE_KEY')"
   ]
  },
  {
   "cell_type": "markdown",
   "id": "fc2fd991",
   "metadata": {},
   "source": [
    "## 장르"
   ]
  },
  {
   "cell_type": "code",
   "execution_count": 4,
   "id": "1671dd18",
   "metadata": {},
   "outputs": [],
   "source": [
    "url_genres = f'{URL}/genre/movie/list?api_key={API_KEY}'\n",
    "result = requests.get(url_genres)\n",
    "genres = result.json()['genres']\n",
    "for g in genres:\n",
    "    genre = Genre()\n",
    "    genre.pk = g['id']\n",
    "    genre.genre_name = g['name']\n",
    "    genre.save()"
   ]
  },
  {
   "cell_type": "markdown",
   "id": "e8e003ad",
   "metadata": {},
   "source": [
    "## 영화(2000~2021)"
   ]
  },
  {
   "cell_type": "code",
   "execution_count": 6,
   "id": "c04f129e",
   "metadata": {},
   "outputs": [],
   "source": [
    "year = 2020"
   ]
  },
  {
   "cell_type": "code",
   "execution_count": 9,
   "id": "8d9dc006",
   "metadata": {},
   "outputs": [
    {
     "name": "stderr",
     "output_type": "stream",
     "text": [
      "100%|█████████████████████████████████████████████████████████████████████| 24309/24309 [00:00<00:00, 34685.52it/s]\n"
     ]
    }
   ],
   "source": [
    "with open(f'../data/movie_{year}.json', 'r') as fp:\n",
    "    movies = json.load(fp)\n",
    "\n",
    "# delete stored movies\n",
    "movies_year = Movie.objects.filter(release_date__year=year)\n",
    "movies_year.delete()\n",
    "# using bulk\n",
    "to_db_movies = []\n",
    "for mv in tqdm(movies):\n",
    "    movie = Movie()\n",
    "    movie.pk = mv['id']\n",
    "    movie.title_en = mv['original_title']\n",
    "    movie.title_ko = mv['title']\n",
    "    movie.rate = mv['vote_average']\n",
    "    movie.rate_people_count = mv['vote_count']\n",
    "    movie.poster_path = mv['poster_path']\n",
    "    movie.description = mv['overview']\n",
    "    movie.release_date = datetime.datetime.strptime(mv['release_date'], '%Y-%m-%d')\n",
    "    to_db_movies.append(movie)"
   ]
  },
  {
   "cell_type": "code",
   "execution_count": 13,
   "id": "1dc92468",
   "metadata": {},
   "outputs": [],
   "source": [
    "div = 100\n",
    "to_db_movies_batch = []\n",
    "for i in range(len(to_db_movies) // div + 1):\n",
    "    to_db_movies_batch.append(to_db_movies[i*div:(i+1)*div])"
   ]
  },
  {
   "cell_type": "code",
   "execution_count": 38,
   "id": "f7e3d730",
   "metadata": {},
   "outputs": [],
   "source": [
    "def store_movies(year):\n",
    "    print(f'storing-----------{year}')\n",
    "    with open(f'../data/movie_{year}.json', 'r') as fp:\n",
    "        movies = json.load(fp)\n",
    "    \n",
    "    # delete stored movies\n",
    "    movies_year = Movie.objects.filter(release_date__year=year)\n",
    "    movies_year.delete()\n",
    "    # using bulk\n",
    "    to_db_movies = []\n",
    "    for mv in tqdm(movies):\n",
    "        movie = Movie()\n",
    "        movie.pk = mv['id']\n",
    "        movie.title_en = mv['original_title']\n",
    "        movie.title_ko = mv['title']\n",
    "        movie.rate = mv['vote_average']\n",
    "        movie.rate_people_count = mv['vote_count']\n",
    "        movie.poster_path = mv['poster_path']\n",
    "        movie.description = mv['overview']\n",
    "        movie.release_date = datetime.datetime.strptime(mv['release_date'], '%Y-%m-%d')\n",
    "        to_db_movies.append(movie)\n",
    "        \n",
    "    div = 100\n",
    "    to_db_movies_batch = []\n",
    "    for i in range(len(to_db_movies) // div + 1):\n",
    "        to_db_movies_batch.append(to_db_movies[i*div:(i+1)*div])\n",
    "        \n",
    "    for idx, batch in enumerate(to_db_movies_batch):\n",
    "        print(round(idx/len(to_db_movies_batch), 2), end='|')\n",
    "        temp = Movie.objects.bulk_create(batch)\n",
    "    # add genre\n",
    "    mgs = []\n",
    "    for mv in movies:\n",
    "        for gid in mv['genre_ids']:\n",
    "            mg = MG()\n",
    "            mg.movie_id = mv['id']\n",
    "            mg.genre_id = gid\n",
    "            mgs.append(mg)\n",
    "    temp = MG.objects.bulk_create(mgs)"
   ]
  },
  {
   "cell_type": "code",
   "execution_count": 39,
   "id": "23f8e2b6",
   "metadata": {},
   "outputs": [
    {
     "name": "stdout",
     "output_type": "stream",
     "text": [
      "storing-----------2000\n"
     ]
    },
    {
     "name": "stderr",
     "output_type": "stream",
     "text": [
      "100%|███████████████████████████████████████████████████████████████████████| 5649/5649 [00:00<00:00, 65860.99it/s]\n"
     ]
    },
    {
     "name": "stdout",
     "output_type": "stream",
     "text": [
      "0.0|0.02|0.04|0.05|0.07|0.09|0.11|0.12|0.14|0.16|0.18|0.19|0.21|0.23|0.25|0.26|0.28|0.3|0.32|0.33|0.35|0.37|0.39|0.4|0.42|0.44|0.46|0.47|0.49|0.51|0.53|0.54|0.56|0.58|0.6|0.61|0.63|0.65|0.67|0.68|0.7|0.72|0.74|0.75|0.77|0.79|0.81|0.82|0.84|0.86|0.88|0.89|0.91|0.93|0.95|0.96|0.98|"
     ]
    }
   ],
   "source": [
    "store_movies(2000)"
   ]
  },
  {
   "cell_type": "code",
   "execution_count": null,
   "id": "4a8018f0",
   "metadata": {},
   "outputs": [],
   "source": []
  },
  {
   "cell_type": "code",
   "execution_count": null,
   "id": "23348c36",
   "metadata": {},
   "outputs": [],
   "source": [
    "for year in reversed(range(2000, 2022)):\n",
    "    store_movies(year)"
   ]
  }
 ],
 "metadata": {
  "kernelspec": {
   "display_name": "Django Shell-Plus",
   "language": "python",
   "name": "django_extensions"
  },
  "language_info": {
   "codemirror_mode": {
    "name": "ipython",
    "version": 3
   },
   "file_extension": ".py",
   "mimetype": "text/x-python",
   "name": "python",
   "nbconvert_exporter": "python",
   "pygments_lexer": "ipython3",
   "version": "3.8.7"
  }
 },
 "nbformat": 4,
 "nbformat_minor": 5
}
